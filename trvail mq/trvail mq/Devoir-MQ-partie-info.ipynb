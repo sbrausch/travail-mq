{
 "cells": [
  {
   "cell_type": "markdown",
   "metadata": {},
   "source": [
    "SILVA-MARTINS Merlin"
   ]
  },
  {
   "cell_type": "markdown",
   "metadata": {},
   "source": [
    "BRAUSCH Sébastien"
   ]
  },
  {
   "cell_type": "markdown",
   "metadata": {},
   "source": [
    "# Devoir : physique statistique partie mécanique quantique."
   ]
  },
  {
   "cell_type": "code",
   "execution_count": 1,
   "metadata": {},
   "outputs": [],
   "source": [
    "import numpy\n",
    "from matplotlib import pyplot\n",
    "%matplotlib inline\n"
   ]
  },
  {
   "cell_type": "code",
   "execution_count": 2,
   "metadata": {},
   "outputs": [],
   "source": [
    "#Paramètres pour l'affichage des graphes\n",
    "pyplot.rcParams['font.family'] = 'serif'\n",
    "pyplot.rcParams['font.size'] = 16"
   ]
  },
  {
   "cell_type": "markdown",
   "metadata": {},
   "source": [
    "# Question 1:"
   ]
  },
  {
   "cell_type": "markdown",
   "metadata": {},
   "source": [
    "On voit directement que les solutions de cette équations sont des exponentielles de forme C*exp(k*x) où C et k sont des constantes\n",
    "on doit donc résoudre l'équation suivante :\n",
    " $$\n",
    " C k^4 e^{k x} - 5C k^2e^{k^x} + 4 C e^{k x} = 0\n",
    " $$\n",
    "En simplifiant, on voit directement apparaitre une équation du second degré en k, en résolvant on trouve le spectre suivant pour k : \n",
    "k = {-2, -1, 1, 2}. De plus si 2 fonctions sont solutions de l'équation différentielle, une combinaison linéaire de ces deux fonctions est aussi solution.  On a donc une solution générale pour notre équation :\n",
    "$$\n",
    "f(x) = C_1 e^{x} + C_2 e^{-x} + C_3e^{2x} + C_4e{-2x}\n",
    "$$\n",
    "où les $C_{i=1, 2, 3, 4}$ sont les constantes d'intégration qui seront discutées plus tard "
   ]
  },
  {
   "cell_type": "code",
   "execution_count": 3,
   "metadata": {},
   "outputs": [],
   "source": [
    "#On commence la discrétisation de notre domaine et la paramétrisation nécéssire à la suite du travail :\n",
    "#On définit notre abscisse :\n",
    "nx = 101  # nombre de points (entre x=0 et x=1)\n",
    "Lx = 1.0  # domaine de définition\n",
    "dx = Lx / (nx - 1)  #intervalle entre x[i] et x[i+1]\n",
    "\n",
    "#BC :\n",
    "a=0. #condition au bord (f(x = 0)\n",
    "b=0. #                  (f'(x=0))\n",
    "c=1. #                  (f(x=1))\n",
    "d=-1. #                 (f'(x=1))\n",
    "\n",
    "#On situe nos points sur la grille :\n",
    "x = numpy.linspace(0.0, Lx, num=nx)\n",
    "\n",
    "#Conditions initiales :\n",
    "p0 = numpy.zeros(nx)\n",
    "p0[-1] = c"
   ]
  },
  {
   "cell_type": "markdown",
   "metadata": {},
   "source": [
    "# Question 2"
   ]
  },
  {
   "cell_type": "markdown",
   "metadata": {},
   "source": [
    "Les constantes d'intégration peuvent être déterminées en résolvant le système d'équation linéaire obtenu en appliquant les conditions aux bords.\n",
    "Ces dernières vont dépendre des paramètres a, b, c et d définis ci-dessus. Pour ce faire nous utiliserons une fonction de python numpy.linalg.solve() qui va résoudre ce système pour n'importe quels paramètres aux bords."
   ]
  },
  {
   "cell_type": "code",
   "execution_count": 4,
   "metadata": {},
   "outputs": [],
   "source": [
    "def resolvsyst (a,b,c,d):\n",
    "\n",
    "\n",
    "    A = ([1,1,1,1],[1,-1,2,-2],[(numpy.exp(1)),(numpy.exp(-1)),(numpy.exp(2)),(numpy.exp(-2))],[(numpy.exp(1)),(-numpy.exp(-1)),(2*numpy.exp(2)),(-2*numpy.exp(-2))])\n",
    "    A = numpy.array(A)\n",
    "    t = numpy.array([a,b,c,d])\n",
    "    y = numpy.linalg.solve(A,t)\n",
    "    return y"
   ]
  },
  {
   "cell_type": "markdown",
   "metadata": {},
   "source": [
    "On résout ce système pour les paramètres donnés dans l'énoncé, et on obtient donc la solution exacte de l'équation pour ces paramètres aux bords"
   ]
  },
  {
   "cell_type": "markdown",
   "metadata": {},
   "source": [
    "# Question3"
   ]
  },
  {
   "cell_type": "code",
   "execution_count": 5,
   "metadata": {},
   "outputs": [],
   "source": [
    "C = resolvsyst(0,0,1,-1)\n",
    "pexact = C[0]*numpy.exp(x)+C[1]*numpy.exp(-x)+C[2]*numpy.exp(2*x)+C[3]*numpy.exp(-2*x)"
   ]
  },
  {
   "cell_type": "code",
   "execution_count": 6,
   "metadata": {},
   "outputs": [
    {
     "data": {
      "text/plain": [
       "[<matplotlib.lines.Line2D at 0x254cf05a668>]"
      ]
     },
     "execution_count": 6,
     "metadata": {},
     "output_type": "execute_result"
    },
    {
     "data": {
      "image/png": "[encoded data removed]",
      "text/plain": [
       "<Figure size 432x288 with 1 Axes>"
      ]
     },
     "metadata": {
      "needs_background": "light"
     },
     "output_type": "display_data"
    }
   ],
   "source": [
    "#On affiche cette fonction :\n",
    "pyplot.plot(x,pexact)"
   ]
  },
  {
   "cell_type": "markdown",
   "metadata": {},
   "source": [
    "On va maintenant s'intéresser aux méthodes de résolution numériques pour les équations différentielles. Pour Gauss-Seidel, on importe un outil augmentant la vitesse de calcul."
   ]
  },
  {
   "cell_type": "markdown",
   "metadata": {},
   "source": [
    "# Question 4"
   ]
  },
  {
   "cell_type": "code",
   "execution_count": 7,
   "metadata": {},
   "outputs": [],
   "source": [
    "import numba\n",
    "from numba import jit"
   ]
  },
  {
   "cell_type": "markdown",
   "metadata": {},
   "source": [
    "Dans notre cas la discrétisation de la dérivée est donnée par :\n",
    "$$\n",
    "\\frac{u_{i-2}-4u_{i-1}+6u_i-4u_{i+1}+u_{i+2}}{(\\Delta x)^4}-5 \\left( \\frac{u_{i-1}-2u_i+u_{i+1}}{(\\Delta x)^2}\\right)+4u_i = 0\n",
    "$$\n",
    "Donc pour la méthode de Gauss-Seidel nous mettrons nos points \"à jour\" grâce à la relation suivante:\n",
    "\n",
    "$$\n",
    "p_{i}^{k+1} = \\frac{1}{\\beta} \\left(-p_{i-2}^{k+1}-\\gamma p_{i-1}^{k+1}-\\gamma p_{i+1}^k - p_{i+2}^k\\right)\n",
    "$$\n",
    "où $\\beta = 6 + 10 dx^2+4dx^4$ et $\\gamma = -4-5dx^2$"
   ]
  },
  {
   "cell_type": "code",
   "execution_count": 8,
   "metadata": {},
   "outputs": [],
   "source": [
    "@jit(nopython=True)\n",
    "def laplace_2d_gauss_seidel(dx,p0, maxiter=20000, rtol=1e-6):\n",
    "    p = p0.copy()\n",
    "    beta = 6+10*dx**2+4*dx**4\n",
    "    gamma = -4-5*dx**2\n",
    "    conv = []  \n",
    "    diff = rtol + 1.0  \n",
    "    ite = 0  \n",
    "\n",
    "    while diff > rtol and ite < maxiter:\n",
    "        pn = p.copy()\n",
    "        \n",
    "        for i in range(2,nx-2):\n",
    "            p[i] = (1/beta)*(-p[i-2]-gamma*p[i-1]-gamma*p[i+1]-p[i+2])\n",
    "                      \n",
    "        p[-2]= p[-1]+dx\n",
    "        p[1] = p[0]\n",
    "        diff = numpy.sqrt(numpy.sum((p - pn)**2) / numpy.sum(pn**2))\n",
    "        conv.append(diff)\n",
    "        ite += 1 \n",
    "    return p, ite, conv"
   ]
  },
  {
   "cell_type": "markdown",
   "metadata": {},
   "source": [
    "Le code tourne jusqu'à ce que la différence relative entre deux valeurs successives de la fonction soient suffisement petites.\n",
    "On veut ici savoir combien d'itérations ont été nécessaire pour arriver à une telle différence :"
   ]
  },
  {
   "cell_type": "code",
   "execution_count": 9,
   "metadata": {},
   "outputs": [
    {
     "name": "stdout",
     "output_type": "stream",
     "text": [
      "Gauss-Seidel relaxation: 2531638 iterations to reach a relative difference of 9.99998581262672e-09\n"
     ]
    }
   ],
   "source": [
    "p, ites, conv_gs = laplace_2d_gauss_seidel(dx,p0,\n",
    "                                           maxiter=20000000, rtol=1e-8)\n",
    "print('Gauss-Seidel relaxation: {} iterations '.format(ites) +\n",
    "      'to reach a relative difference of {}'.format(conv_gs[-1]))"
   ]
  },
  {
   "cell_type": "code",
   "execution_count": 10,
   "metadata": {},
   "outputs": [],
   "source": [
    "def L2_rel_error(p, pk):\n",
    "    return numpy.sqrt(numpy.sum((p - pk)**2)/numpy.sum(pk**2))"
   ]
  },
  {
   "cell_type": "code",
   "execution_count": 11,
   "metadata": {},
   "outputs": [
    {
     "name": "stdout",
     "output_type": "stream",
     "text": [
      "la norme L2 pour notre fonction est: 0.005822656840975767\n"
     ]
    }
   ],
   "source": [
    "print(\"la norme L2 pour notre fonction est:\", L2_rel_error(p,pexact))"
   ]
  },
  {
   "cell_type": "markdown",
   "metadata": {},
   "source": [
    "Ici on compare graphiquement notre solution exacte (en orange) et la fonction obtenue par Gauss-Seidel (en bleu)\n",
    "On voit qu'elles sont pratiquement confondues, on a donc très bien approché la solution avec cette méthode."
   ]
  },
  {
   "cell_type": "code",
   "execution_count": 12,
   "metadata": {},
   "outputs": [
    {
     "data": {
      "text/plain": [
       "<matplotlib.legend.Legend at 0x254d3a49128>"
      ]
     },
     "execution_count": 12,
     "metadata": {},
     "output_type": "execute_result"
    },
    {
     "data": {
      "image/png": "[encoded data removed]",
      "text/plain": [
       "<Figure size 432x288 with 1 Axes>"
      ]
     },
     "metadata": {
      "needs_background": "light"
     },
     "output_type": "display_data"
    }
   ],
   "source": [
    "pyplot.plot(x,p,label=r'$p Gauss-Seidel$')\n",
    "pyplot.plot(x,pexact,label=r'$pexact$')\n",
    "pyplot.legend()"
   ]
  },
  {
   "cell_type": "markdown",
   "metadata": {},
   "source": [
    "# Question 5"
   ]
  },
  {
   "cell_type": "markdown",
   "metadata": {},
   "source": [
    "On va maintenant tenter de résoudre avec la méthode du gradient conjugué :"
   ]
  },
  {
   "cell_type": "code",
   "execution_count": 13,
   "metadata": {},
   "outputs": [],
   "source": [
    "def conjugate_gradient(p0, dx,\n",
    "                       maxiter=20000, rtol=1e-7):\n",
    "    #On va définir l'opérateur différentiel qui agit sur notre fonction en utilisant la finite central difference :\n",
    "    def A(p):\n",
    "        return ((p[:-4] - 4 * p[1:-3] + 6 * p[2:-2] - 4 * p[3:-1]  + p[4:]) / dx**4) - (5 * (p[1:-3] - 2 * p[2:-2] + p[3:-1]) / dx**2) + 4 * p[2:-2]\n",
    "    p = p0.copy()\n",
    "    p[-1] = 1\n",
    "    p[-2]= p[-1]+dx\n",
    "    p[0] = 0\n",
    "    p[1] = p[0]\n",
    "    r = numpy.zeros_like(p)  # on règle le résidus initial\n",
    "    Ad = numpy.zeros_like(p)  # permet de multiplier les différentes quantités considérées\n",
    "    conv = []  # convergence \n",
    "    diff = rtol + 1  # difference initiale\n",
    "    ite = 0  # indexe d'itération. Comme pour Gauss, on veut connaitre le nombre d'itération décessaire à la résolution de notre équation\n",
    "    # On compute le résidus initial. Ici il n'y a pas de terme de sources, l'équation est homogène. Notre fonction conjugate_gradient ne dépendra donc pas du paramètre b (comme il est défini dans le cours)\n",
    "    r[2:-2] = - A(p)\n",
    "    # On règle la rechere de direction initiale pour être le résidus\n",
    "    d = r.copy()\n",
    "    # On va maintenant run notre code. Celui ci ne s'arrêtera pas tant que le nombre d'itérations max ne soit atteint ou que la différence relative entre deux points successifs soit suffisement petite\n",
    "    while diff > rtol and ite < maxiter:\n",
    "        pk = p.copy()\n",
    "        rk = r.copy()\n",
    "        \n",
    "        Ad[2:-2] = A(d)\n",
    "        # On règle la taille des pas.\n",
    "        alpha = numpy.sum(r * r) / numpy.sum(d * Ad)\n",
    "        # On met la solution et le résidus à jour.\n",
    "        p = pk + alpha * d\n",
    "        r = rk - alpha * Ad\n",
    "        # Ainsi que la directon.\n",
    "        beta = numpy.sum(r * r) / numpy.sum(rk * rk)\n",
    "        d = r + beta * d\n",
    "        # Les conditions de Dirichlet sont automatiquement implémentées, il nous restes les conditions de Van Neumann à computer.\n",
    "        # On utilise la forward finite diff pour la condition à gauche, et la backward pour celle de droite :\n",
    "        p[-2]= p[-1]+dx\n",
    "        p[1] = p[0]\n",
    "        # Et on calcule la différence relative, lorsqu'elle sera suffisement faible, on sortira de la boucle.\n",
    "        diff =  L2_rel_error(p, pk)\n",
    "        conv.append(diff)\n",
    "        ite += 1\n",
    "    return p, ite, conv"
   ]
  },
  {
   "cell_type": "markdown",
   "metadata": {},
   "source": [
    " On compute la solution trouvée avec cette méthode, et on demande aussi le nombre d'itération nécessaires."
   ]
  },
  {
   "cell_type": "code",
   "execution_count": 14,
   "metadata": {},
   "outputs": [
    {
     "name": "stdout",
     "output_type": "stream",
     "text": [
      "Method of conjugate gradients: 314 iterations to reach a relative difference of 7.118325472842683e-11\n"
     ]
    }
   ],
   "source": [
    "p, ites, conv_cg = conjugate_gradient(p0, dx, \n",
    "                                      maxiter=20000, \n",
    "                                      rtol=1e-10)\n",
    "print('Method of conjugate gradients: {} iterations '.format(ites) +\n",
    "      'to reach a relative difference of {}'.format(conv_cg[-1]))"
   ]
  },
  {
   "cell_type": "markdown",
   "metadata": {},
   "source": [
    "Le nombre d'itérations trouvés ici est nettement plus faible que pour la méthode de Gauss-Seidel."
   ]
  },
  {
   "cell_type": "code",
   "execution_count": 15,
   "metadata": {},
   "outputs": [
    {
     "name": "stdout",
     "output_type": "stream",
     "text": [
      "La norme L2 pour cette méthode est: 0.0051601985540429916\n"
     ]
    }
   ],
   "source": [
    "print(\"La norme L2 pour cette méthode est:\",L2_rel_error(p, pexact))"
   ]
  },
  {
   "cell_type": "markdown",
   "metadata": {},
   "source": [
    "Ce nombre est comparable à celui obtenu pour la méthode de Gauss-Seidel"
   ]
  },
  {
   "cell_type": "markdown",
   "metadata": {},
   "source": [
    "Comparons le graphique de notre solution avec la solution exacte."
   ]
  },
  {
   "cell_type": "code",
   "execution_count": 16,
   "metadata": {},
   "outputs": [
    {
     "data": {
      "text/plain": [
       "<matplotlib.legend.Legend at 0x254d3a9e978>"
      ]
     },
     "execution_count": 16,
     "metadata": {},
     "output_type": "execute_result"
    },
    {
     "data": {
      "image/png": "[encoded data removed]",
      "text/plain": [
       "<Figure size 432x288 with 1 Axes>"
      ]
     },
     "metadata": {
      "needs_background": "light"
     },
     "output_type": "display_data"
    }
   ],
   "source": [
    "pyplot.plot(x,p,label=r'$p Conjugate gradient$')\n",
    "pyplot.plot(x,pexact,label=r'$pexact$')\n",
    "pyplot.legend()"
   ]
  },
  {
   "cell_type": "markdown",
   "metadata": {},
   "source": [
    "On voit qu'ils se superposent bien et que notre algoritme fonctionne. Notons que la grande différence entre ces méthodes est le nombre d'itérations nécessaires avant d'avoir une norme L2 du même ordre de grandeur."
   ]
  }
 ],
 "metadata": {
  "kernelspec": {
   "display_name": "Python 3",
   "language": "python",
   "name": "python3"
  },
  "language_info": {
   "codemirror_mode": {
    "name": "ipython",
    "version": 3
   },
   "file_extension": ".py",
   "mimetype": "text/x-python",
   "name": "python",
   "nbconvert_exporter": "python",
   "pygments_lexer": "ipython3",
   "version": "3.7.3"
  }
 },
 "nbformat": 4,
 "nbformat_minor": 4
}
