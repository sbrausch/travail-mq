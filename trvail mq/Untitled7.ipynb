{
 "cells": [
  {
   "cell_type": "code",
   "execution_count": 1,
   "metadata": {},
   "outputs": [],
   "source": [
    "\n",
    "import numpy\n",
    "from matplotlib import pyplot\n",
    "%matplotlib inline"
   ]
  },
  {
   "cell_type": "code",
   "execution_count": 2,
   "metadata": {},
   "outputs": [],
   "source": [
    "# Set the font family and size to use for Matplotlib figures.\n",
    "pyplot.rcParams['font.family'] = 'serif'\n",
    "pyplot.rcParams['font.size'] = 16"
   ]
  },
  {
   "cell_type": "code",
   "execution_count": 3,
   "metadata": {},
   "outputs": [],
   "source": [
    "\"\"\"\n",
    "Helper functions for lessons of module 5 of Numerical-MOOC.\n",
    "\"\"\"\n",
    "\n",
    "import numpy\n",
    "from matplotlib import pyplot, cm\n",
    "from mpl_toolkits import mplot3d\n",
    "\n",
    "\n",
    "def laplace_solution(x, y, Lx, Ly):\n",
    "    \"\"\"\n",
    "    Computes and returns the analytical solution of the Laplace equation\n",
    "    on a given two-dimensional Cartesian grid.\n",
    "    Parameters\n",
    "    ----------\n",
    "    x : numpy.ndarray\n",
    "        The gridline locations in the x direction\n",
    "        as a 1D array of floats.\n",
    "    y : numpy.ndarray\n",
    "        The gridline locations in the y direction\n",
    "        as a 1D array of floats.\n",
    "    Lx : float\n",
    "        Length of the domain in the x direction.\n",
    "    Ly : float\n",
    "        Length of the domain in the y direction.\n",
    "    Returns\n",
    "    -------\n",
    "    p : numpy.ndarray\n",
    "        The analytical solution as a 2D array of floats.\n",
    "    \"\"\"\n",
    "    X, Y = numpy.meshgrid(x, y)\n",
    "    p = (numpy.sinh(1.5 * numpy.pi * Y / Ly) /\n",
    "         numpy.sinh(1.5 * numpy.pi * Ly / Lx) *\n",
    "         numpy.sin(1.5 * numpy.pi * X / Lx))\n",
    "    return p\n",
    "\n",
    "\n",
    "def poisson_solution(x, y, Lx, Ly):\n",
    "    \"\"\"\n",
    "    Computes and returns the analytical solution of the Poisson equation\n",
    "    on a given two-dimensional Cartesian grid.\n",
    "    Parameters\n",
    "    ----------\n",
    "    x : numpy.ndarray\n",
    "        The gridline locations in the x direction\n",
    "        as a 1D array of floats.\n",
    "    y : numpy.ndarray\n",
    "        The gridline locations in the y direction\n",
    "        as a 1D array of floats.\n",
    "    Lx : float\n",
    "        Length of the domain in the x direction.\n",
    "    Ly : float\n",
    "        Length of the domain in the y direction.\n",
    "    Returns\n",
    "    -------\n",
    "    p : numpy.ndarray\n",
    "        The analytical solution as a 2D array of floats.\n",
    "    \"\"\"\n",
    "    X, Y = numpy.meshgrid(x, y)\n",
    "    p = numpy.sin(numpy.pi * X / Lx) * numpy.cos(numpy.pi * Y / Ly)\n",
    "    return p\n",
    "\n",
    "\n",
    "def l2_norm(p, p_ref):\n",
    "    \"\"\"\n",
    "    Computes and returns the relative L2-norm of the difference\n",
    "    between a solution p and a reference solution p_ref.\n",
    "    If L2(p_ref) = 0, the function simply returns\n",
    "    the L2-norm of the difference.\n",
    "    Parameters\n",
    "    ----------\n",
    "    p : numpy.ndarray\n",
    "        The solution as an array of floats.\n",
    "    p_ref : numpy.ndarray\n",
    "        The reference solution as an array of floats.\n",
    "    Returns\n",
    "    -------\n",
    "    diff : float\n",
    "        The (relative) L2-norm of the difference.\n",
    "    \"\"\"\n",
    "    l2_diff = numpy.sqrt(numpy.sum((p - p_ref)**2))\n",
    "    l2_ref = numpy.sqrt(numpy.sum(p_ref**2))\n",
    "    if l2_ref > 1e-12:\n",
    "        return l2_diff / l2_ref\n",
    "    return l2_diff\n",
    "\n",
    "\n",
    "def poisson_2d_jacobi(p0, b, dx, dy, maxiter=20000, rtol=1e-6):\n",
    "    \"\"\"\n",
    "    Solves the 2D Poisson equation for a given forcing term\n",
    "    using Jacobi relaxation method.\n",
    "    The function assumes Dirichlet boundary conditions with value zero.\n",
    "    The exit criterion of the solver is based on the relative L2-norm\n",
    "    of the solution difference between two consecutive iterations.\n",
    "    Parameters\n",
    "    ----------\n",
    "    p0 : numpy.ndarray\n",
    "        The initial solution as a 2D array of floats.\n",
    "    b : numpy.ndarray\n",
    "        The forcing term as a 2D array of floats.\n",
    "    dx : float\n",
    "        Grid spacing in the x direction.\n",
    "    dy : float\n",
    "        Grid spacing in the y direction.\n",
    "    maxiter : integer, optional\n",
    "        Maximum number of iterations to perform;\n",
    "        default: 20000.\n",
    "    rtol : float, optional\n",
    "        Relative tolerance for convergence;\n",
    "        default: 1e-6.\n",
    "    Returns\n",
    "    -------\n",
    "    p : numpy.ndarray\n",
    "        The solution after relaxation as a 2D array of floats.\n",
    "    ite : integer\n",
    "        The number of iterations performed.\n",
    "    conv : list\n",
    "        The convergence history as a list of floats.\n",
    "    \"\"\"\n",
    "    p = p0.copy()\n",
    "    conv = []  # convergence history\n",
    "    diff = rtol + 1.0  # initial difference\n",
    "    ite = 0  # iteration index\n",
    "    while diff > rtol and ite < maxiter:\n",
    "        pn = p.copy()\n",
    "        p[1:-1, 1:-1] = (((pn[1:-1, :-2] + pn[1:-1, 2:]) * dy**2 +\n",
    "                          (pn[:-2, 1:-1] + pn[2:, 1:-1]) * dx**2 -\n",
    "                          b[1:-1, 1:-1] * dx**2 * dy**2) /\n",
    "                         (2.0 * (dx**2 + dy**2)))\n",
    "        # Dirichlet boundary conditions at automatically enforced.\n",
    "        # Compute and record the relative L2-norm of the difference.\n",
    "        diff = l2_norm(p, pn)\n",
    "        conv.append(diff)\n",
    "        ite += 1\n",
    "    return p, ite, conv\n",
    "\n",
    "\n",
    "def plot_3d(x, y, p, label='$z$', elev=30.0, azim=45.0):\n",
    "    \"\"\"\n",
    "    Creates a Matplotlib figure with a 3D surface plot of the scalar field p.\n",
    "    Parameters\n",
    "    ----------\n",
    "    x : numpy.ndarray\n",
    "        Gridline locations in the x direction as a 1D array of floats.\n",
    "    y : numpy.ndarray\n",
    "        Gridline locations in the y direction as a 1D array of floats.\n",
    "    p : numpy.ndarray\n",
    "        Scalar field to plot as a 2D array of floats.\n",
    "    label : string, optional\n",
    "        Axis label to use in the third direction;\n",
    "        default: 'z'.\n",
    "    elev : float, optional\n",
    "        Elevation angle in the z plane;\n",
    "        default: 30.0.\n",
    "    azim : float, optional\n",
    "        Azimuth angle in the x,y plane;\n",
    "        default: 45.0.\n",
    "    \"\"\"\n",
    "    fig = pyplot.figure(figsize=(8.0, 6.0))\n",
    "    ax = mplot3d.Axes3D(fig)\n",
    "    ax.set_xlabel('$x$')\n",
    "    ax.set_ylabel('$y$')\n",
    "    ax.set_zlabel(label)\n",
    "    X, Y = numpy.meshgrid(x, y)\n",
    "    ax.plot_surface(X, Y, p, cmap=cm.viridis)\n",
    "    ax.set_xlim(x[0], x[-1])\n",
    "    ax.set_ylim(y[0], y[-1])\n",
    "    ax.view_init(elev=elev, azim=azim)\n"
   ]
  },
  {
   "cell_type": "code",
   "execution_count": 4,
   "metadata": {},
   "outputs": [],
   "source": [
    "# Set parameters.\n",
    "nx = 128  # number of points in the x direction\n",
    "ny = 128  # number of points in the y direction\n",
    "Lx = 5.0  # domain length in the x direction\n",
    "Ly = 5.0  # domain length in the y direction\n",
    "dx = Lx / (nx - 1)  # grid spacing in x direction\n",
    "dy = Ly / (ny - 1)  # grid spacing in y direction\n",
    "\n",
    "# Create the gridline locations.\n",
    "x = numpy.linspace(0.0, Lx, num=nx)\n",
    "y = numpy.linspace(0.0, Ly, num=ny)\n",
    "\n",
    "# Set the initial conditions.\n",
    "p0 = numpy.zeros((ny, nx))\n",
    "p0[-1, :] = numpy.sin(1.5 * numpy.pi * x / Lx)"
   ]
  },
  {
   "cell_type": "code",
   "execution_count": 5,
   "metadata": {},
   "outputs": [],
   "source": [
    "def laplace_2d_jacobi(p0, maxiter=20000, rtol=1e-6):\n",
    "    \"\"\"\n",
    "    Solves the 2D Laplace equation on a uniform grid\n",
    "    with equal grid spacing in both directions\n",
    "    using Jacobi relaxation method.\n",
    "    \n",
    "    The exit criterion of the solver is based on the relative L2-norm\n",
    "    of the solution difference between two consecutive iterations.\n",
    "    \n",
    "    Parameters\n",
    "    ----------\n",
    "    p0 : numpy.ndarray\n",
    "        The initial solution as a 2D array of floats.\n",
    "    maxiter : integer, optional\n",
    "        Maximum number of iterations to perform;\n",
    "        default: 20000.\n",
    "    rtol : float, optional\n",
    "        Relative tolerance for convergence;\n",
    "        default: 1e-6.\n",
    "    \n",
    "    Returns\n",
    "    -------\n",
    "    p : numpy.ndarray\n",
    "        The solution after relaxation as a 2D array of floats.\n",
    "    ite : integer\n",
    "        The number of iterations performed.\n",
    "    diff : float\n",
    "        The final relative L2-norm of the difference.\n",
    "    \"\"\"\n",
    "    p = p0.copy()\n",
    "    diff = rtol + 1.0  # initial difference\n",
    "    ite = 0  # iteration index\n",
    "    while diff > rtol and ite < maxiter:\n",
    "        pn = p.copy()\n",
    "        # Update the solution at interior points.\n",
    "        p[1:-1, 1:-1] = 0.25 * (pn[1:-1, :-2] + pn[1:-1, 2:] +\n",
    "                                pn[:-2, 1:-1] + pn[2:, 1:-1])\n",
    "        # Apply 2nd-order Neumann condition (zero-gradient)\n",
    "        # at the right boundary.\n",
    "        p[1:-1, -1] = 0.25 * (2.0 * pn[1:-1, -2] +\n",
    "                              pn[2:, -1] + pn[:-2, -1])\n",
    "        # Compute the relative L2-norm of the difference.\n",
    "        diff = l2_norm(p, pn)\n",
    "        ite += 1\n",
    "    return p, ite, diff"
   ]
  },
  {
   "cell_type": "code",
   "execution_count": 6,
   "metadata": {},
   "outputs": [
    {
     "name": "stdout",
     "output_type": "stream",
     "text": [
      "Jacobi relaxation: 19993 iterations to reach a relative difference of 9.998616841218672e-09\n"
     ]
    }
   ],
   "source": [
    "# Compute the solution using Jacobi relaxation method.\n",
    "p, ites, diff = laplace_2d_jacobi(p0, maxiter=20000, rtol=1e-8)\n",
    "print('Jacobi relaxation: {} iterations '.format(ites) +\n",
    "      'to reach a relative difference of {}'.format(diff))"
   ]
  },
  {
   "cell_type": "code",
   "execution_count": 7,
   "metadata": {},
   "outputs": [
    {
     "name": "stdout",
     "output_type": "stream",
     "text": [
      "6.44 s ± 341 ms per loop (mean ± std. dev. of 7 runs, 1 loop each)\n"
     ]
    }
   ],
   "source": [
    "%%timeit\n",
    "laplace_2d_jacobi(p0, maxiter=20000, rtol=1e-8)"
   ]
  },
  {
   "cell_type": "code",
   "execution_count": 8,
   "metadata": {},
   "outputs": [
    {
     "data": {
      "text/plain": [
       "6.173551335287984e-05"
      ]
     },
     "execution_count": 8,
     "metadata": {},
     "output_type": "execute_result"
    }
   ],
   "source": [
    "# Compute the analytical solution.\n",
    "p_exact = laplace_solution(x, y, Lx, Ly)\n",
    "\n",
    "# Compute the relative L2-norm of the error.\n",
    "l2_norm(p, p_exact)"
   ]
  },
  {
   "cell_type": "code",
   "execution_count": 9,
   "metadata": {},
   "outputs": [],
   "source": [
    "def laplace_2d_gauss_seidel(p0, maxiter=20000, rtol=1e-6):\n",
    "    \"\"\"\n",
    "    Solves the 2D Laplace equation on a uniform grid\n",
    "    with equal grid spacing in both directions\n",
    "    using Gauss-Seidel relaxation method.\n",
    "    \n",
    "    The exit criterion of the solver is based on the relative L2-norm\n",
    "    of the solution difference between two consecutive iterations.\n",
    "    \n",
    "    Parameters\n",
    "    ----------\n",
    "    p0 : numpy.ndarray\n",
    "        The initial solution as a 2D array of floats.\n",
    "    maxiter : integer, optional\n",
    "        Maximum number of iterations to perform;\n",
    "        default: 20000.\n",
    "    rtol : float, optional\n",
    "        Relative tolerance for convergence;\n",
    "        default: 1e-6.\n",
    "    \n",
    "    Returns\n",
    "    -------\n",
    "    p : numpy.ndarray\n",
    "        The solution after relaxation as a 2D array of floats.\n",
    "    ite : integer\n",
    "        The number of iterations performed.\n",
    "    diff : float\n",
    "        The final relative L2-norm of the difference.\n",
    "    \"\"\"\n",
    "    ny, nx = p0.shape\n",
    "    p = p0.copy()\n",
    "    diff = rtol + 1.0  # initial difference\n",
    "    ite = 0  # iteration index\n",
    "    while diff > rtol and ite < maxiter:\n",
    "        pn = p.copy()\n",
    "        # Update the solution at interior points.\n",
    "        for j in range(1, ny - 1):\n",
    "            for i in range(1, nx - 1):\n",
    "                p[j, i] = 0.25 * (p[j, i - 1] + p[j, i + 1] +\n",
    "                                  p[j - 1, i] + p[j + 1, i])\n",
    "        # Apply 2nd-order Neumann condition (zero-gradient)\n",
    "        # at the right boundary.\n",
    "        for j in range(1, ny - 1):\n",
    "            p[j, -1] = 0.25 * (2.0 * p[j, -2] +\n",
    "                               p[j - 1, -1] + p[j + 1, -1])\n",
    "        # Compute the relative L2-norm of the difference.\n",
    "        diff = l2_norm(p, pn)\n",
    "        ite += 1\n",
    "    return p, ite, diff"
   ]
  },
  {
   "cell_type": "code",
   "execution_count": 10,
   "metadata": {},
   "outputs": [],
   "source": [
    "import numba\n",
    "from numba import jit\n"
   ]
  },
  {
   "cell_type": "code",
   "execution_count": 11,
   "metadata": {},
   "outputs": [],
   "source": [
    "def fib_it(n):\n",
    "    a, b = 1, 1\n",
    "    for i in range(n - 2):\n",
    "        a, b = b, a + b\n",
    "    return b"
   ]
  },
  {
   "cell_type": "code",
   "execution_count": 13,
   "metadata": {},
   "outputs": [
    {
     "name": "stdout",
     "output_type": "stream",
     "text": [
      "3.9 s ± 212 ms per loop (mean ± std. dev. of 7 runs, 1 loop each)\n"
     ]
    }
   ],
   "source": [
    "%%timeit\n",
    "fib_it(500000)"
   ]
  },
  {
   "cell_type": "code",
   "execution_count": 14,
   "metadata": {},
   "outputs": [],
   "source": [
    "@jit\n",
    "def fib_it(n):\n",
    "    a, b = 1, 1\n",
    "    for i in range(n - 2):\n",
    "        a, b = b, a + b\n",
    "    return b"
   ]
  },
  {
   "cell_type": "code",
   "execution_count": 16,
   "metadata": {},
   "outputs": [
    {
     "name": "stdout",
     "output_type": "stream",
     "text": [
      "391 µs ± 5.64 µs per loop (mean ± std. dev. of 7 runs, 1 loop each)\n"
     ]
    }
   ],
   "source": [
    "%%timeit\n",
    "fib_it(500000)"
   ]
  },
  {
   "cell_type": "code",
   "execution_count": 19,
   "metadata": {},
   "outputs": [
    {
     "name": "stdout",
     "output_type": "stream",
     "text": [
      "0.43.1\n"
     ]
    }
   ],
   "source": [
    "print(numba.__version__)"
   ]
  }
 ],
 "metadata": {
  "kernelspec": {
   "display_name": "Python 3",
   "language": "python",
   "name": "python3"
  },
  "language_info": {
   "codemirror_mode": {
    "name": "ipython",
    "version": 3
   },
   "file_extension": ".py",
   "mimetype": "text/x-python",
   "name": "python",
   "nbconvert_exporter": "python",
   "pygments_lexer": "ipython3",
   "version": "3.7.3"
  }
 },
 "nbformat": 4,
 "nbformat_minor": 2
}
